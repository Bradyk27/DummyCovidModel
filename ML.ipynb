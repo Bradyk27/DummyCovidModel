{
 "cells": [
  {
   "cell_type": "code",
   "execution_count": 419,
   "metadata": {},
   "outputs": [],
   "source": [
    "import pandas as pd\n",
    "import sklearn"
   ]
  },
  {
   "cell_type": "code",
   "execution_count": 420,
   "metadata": {},
   "outputs": [],
   "source": [
    "corona_stats = pd.read_csv(\"us-counties.csv\")"
   ]
  },
  {
   "cell_type": "markdown",
   "metadata": {},
   "source": [
    "<h1> Population & Infection Ratio <h1>"
   ]
  },
  {
   "cell_type": "code",
   "execution_count": 421,
   "metadata": {},
   "outputs": [
    {
     "name": "stderr",
     "output_type": "stream",
     "text": [
      "/Library/Frameworks/Python.framework/Versions/3.7/lib/python3.7/site-packages/ipykernel_launcher.py:10: FutureWarning: set_value is deprecated and will be removed in a future release. Please use .at[] or .iat[] accessors instead\n",
      "  # Remove the CWD from sys.path while we load stuff.\n",
      "/Library/Frameworks/Python.framework/Versions/3.7/lib/python3.7/site-packages/ipykernel_launcher.py:16: FutureWarning: set_value is deprecated and will be removed in a future release. Please use .at[] or .iat[] accessors instead\n",
      "  app.launch_new_instance()\n",
      "/Library/Frameworks/Python.framework/Versions/3.7/lib/python3.7/site-packages/ipykernel_launcher.py:18: FutureWarning: set_value is deprecated and will be removed in a future release. Please use .at[] or .iat[] accessors instead\n"
     ]
    }
   ],
   "source": [
    "corona_stats_sorted = corona_stats.sort_values(by=[\"state\",\"county\"])\n",
    "corona_stats_sorted = corona_stats_sorted.reset_index(drop=True)\n",
    "corona_stats_sorted_MO = corona_stats_sorted.loc[corona_stats_sorted['state'] == 'Missouri']\n",
    "corona_stats_sorted_MO = corona_stats_sorted_MO.reset_index(drop=True)\n",
    "previous = \"Adair\"\n",
    "i = 0\n",
    "for index, row in corona_stats_sorted_MO.iterrows():\n",
    "    if(row['county'] in county_pop_MO.County.values):\n",
    "        if row['county'] == previous:\n",
    "            corona_stats_sorted_MO.set_value(index, 'population', int(county_pop_MO.loc[i,:]['Pop'].replace(',','')))\n",
    "        else:\n",
    "            i+=1\n",
    "            while(county_pop_MO.loc[i,:]['County'] not in corona_stats_sorted_MO.county.values):\n",
    "                i+=1\n",
    "            previous = row['county']\n",
    "            corona_stats_sorted_MO.set_value(index, 'population', int(county_pop_MO.loc[i,:]['Pop'].replace(',','')))\n",
    "    else:\n",
    "         corona_stats_sorted_MO.set_value(index, 'population', 0)"
   ]
  },
  {
   "cell_type": "code",
   "execution_count": 422,
   "metadata": {},
   "outputs": [
    {
     "name": "stderr",
     "output_type": "stream",
     "text": [
      "/Library/Frameworks/Python.framework/Versions/3.7/lib/python3.7/site-packages/ipykernel_launcher.py:4: FutureWarning: set_value is deprecated and will be removed in a future release. Please use .at[] or .iat[] accessors instead\n",
      "  after removing the cwd from sys.path.\n",
      "/Library/Frameworks/Python.framework/Versions/3.7/lib/python3.7/site-packages/ipykernel_launcher.py:5: FutureWarning: set_value is deprecated and will be removed in a future release. Please use .at[] or .iat[] accessors instead\n",
      "  \"\"\"\n"
     ]
    }
   ],
   "source": [
    "county_pop = pd.read_csv(\"co-est2019-annres.csv\")\n",
    "county_pop['State'] = \"\"\n",
    "for index, row in county_pop.iterrows():\n",
    "    county_pop.set_value(index, 'State', row['County'][row['County'].index(\",\")+2:])\n",
    "    county_pop.set_value(index, 'County', row['County'][1:row['County'].index(\",\")-7])"
   ]
  },
  {
   "cell_type": "code",
   "execution_count": 423,
   "metadata": {},
   "outputs": [
    {
     "name": "stderr",
     "output_type": "stream",
     "text": [
      "/Library/Frameworks/Python.framework/Versions/3.7/lib/python3.7/site-packages/ipykernel_launcher.py:2: FutureWarning: set_value is deprecated and will be removed in a future release. Please use .at[] or .iat[] accessors instead\n",
      "  \n"
     ]
    }
   ],
   "source": [
    "county_pop_MO = county_pop.loc[county_pop['State'] == 'Missouri']\n",
    "county_pop_MO.set_value(1597, \"County\", \"St. Louis city\")\n",
    "county_pop_MO = county_pop_MO.sort_values(by=\"County\")\n",
    "county_pop_MO = county_pop_MO.reset_index(drop=True)"
   ]
  },
  {
   "cell_type": "code",
   "execution_count": 424,
   "metadata": {},
   "outputs": [
    {
     "name": "stderr",
     "output_type": "stream",
     "text": [
      "/Library/Frameworks/Python.framework/Versions/3.7/lib/python3.7/site-packages/ipykernel_launcher.py:6: FutureWarning: set_value is deprecated and will be removed in a future release. Please use .at[] or .iat[] accessors instead\n",
      "  \n",
      "/Library/Frameworks/Python.framework/Versions/3.7/lib/python3.7/site-packages/ipykernel_launcher.py:12: FutureWarning: set_value is deprecated and will be removed in a future release. Please use .at[] or .iat[] accessors instead\n",
      "  if sys.path[0] == '':\n",
      "/Library/Frameworks/Python.framework/Versions/3.7/lib/python3.7/site-packages/ipykernel_launcher.py:14: FutureWarning: set_value is deprecated and will be removed in a future release. Please use .at[] or .iat[] accessors instead\n",
      "  \n"
     ]
    }
   ],
   "source": [
    "previous = \"Adair\"\n",
    "i = 0\n",
    "for index, row in corona_stats_sorted_MO.iterrows():\n",
    "    if(row['county'] in county_pop_MO.County.values):\n",
    "        if row['county'] == previous:\n",
    "            corona_stats_sorted_MO.set_value(index, 'population', int(county_pop_MO.loc[i,:]['Pop'].replace(',','')))\n",
    "        else:\n",
    "            i+=1\n",
    "            while(county_pop_MO.loc[i,:]['County'] not in corona_stats_sorted_MO.county.values):\n",
    "                i+=1\n",
    "            previous = row['county']\n",
    "            corona_stats_sorted_MO.set_value(index, 'population', int(county_pop_MO.loc[i,:]['Pop'].replace(',','')))\n",
    "    else:\n",
    "         corona_stats_sorted_MO.set_value(index, 'population', 0)"
   ]
  },
  {
   "cell_type": "code",
   "execution_count": 425,
   "metadata": {},
   "outputs": [
    {
     "name": "stderr",
     "output_type": "stream",
     "text": [
      "/Library/Frameworks/Python.framework/Versions/3.7/lib/python3.7/site-packages/ipykernel_launcher.py:3: FutureWarning: set_value is deprecated and will be removed in a future release. Please use .at[] or .iat[] accessors instead\n",
      "  This is separate from the ipykernel package so we can avoid doing imports until\n",
      "/Library/Frameworks/Python.framework/Versions/3.7/lib/python3.7/site-packages/ipykernel_launcher.py:7: FutureWarning: set_value is deprecated and will be removed in a future release. Please use .at[] or .iat[] accessors instead\n",
      "  import sys\n",
      "/Library/Frameworks/Python.framework/Versions/3.7/lib/python3.7/site-packages/ipykernel_launcher.py:5: FutureWarning: set_value is deprecated and will be removed in a future release. Please use .at[] or .iat[] accessors instead\n",
      "  \"\"\"\n"
     ]
    }
   ],
   "source": [
    "corona_stats_sorted_MO = corona_stats_sorted_MO[corona_stats_sorted_MO.population != 0.0].reset_index(drop=True)\n",
    "for index, row in corona_stats_sorted_MO.iterrows():\n",
    "    corona_stats_sorted_MO.set_value(index, 'ratio', row['cases'] / row['population'])\n",
    "    if(row['population'] >  50000):\n",
    "        corona_stats_sorted_MO.set_value(index, 'label', 'urban')\n",
    "    else:\n",
    "        corona_stats_sorted_MO.set_value(index, 'label', 'rural')"
   ]
  },
  {
   "cell_type": "code",
   "execution_count": 426,
   "metadata": {},
   "outputs": [],
   "source": [
    "corona_stats_recent_MO = corona_stats_sorted_MO[corona_stats_sorted_MO.date == \"2020-04-26\"].reset_index(drop=True)\n",
    "X = []\n",
    "y = []\n",
    "for index, row in corona_stats_recent_MO.iterrows():\n",
    "    temp = [row['ratio'], row['population']]\n",
    "    X.append(temp)\n",
    "    if row['label'] == 'rural':\n",
    "        y.append(0)\n",
    "    else:\n",
    "        y.append(1)"
   ]
  },
  {
   "cell_type": "code",
   "execution_count": 427,
   "metadata": {},
   "outputs": [
    {
     "name": "stderr",
     "output_type": "stream",
     "text": [
      "/Library/Frameworks/Python.framework/Versions/3.7/lib/python3.7/site-packages/ipykernel_launcher.py:11: FutureWarning: set_value is deprecated and will be removed in a future release. Please use .at[] or .iat[] accessors instead\n",
      "  # This is added back by InteractiveShellApp.init_path()\n",
      "/Library/Frameworks/Python.framework/Versions/3.7/lib/python3.7/site-packages/ipykernel_launcher.py:17: FutureWarning: set_value is deprecated and will be removed in a future release. Please use .at[] or .iat[] accessors instead\n",
      "/Library/Frameworks/Python.framework/Versions/3.7/lib/python3.7/site-packages/ipykernel_launcher.py:19: FutureWarning: set_value is deprecated and will be removed in a future release. Please use .at[] or .iat[] accessors instead\n",
      "/Library/Frameworks/Python.framework/Versions/3.7/lib/python3.7/site-packages/ipykernel_launcher.py:22: FutureWarning: set_value is deprecated and will be removed in a future release. Please use .at[] or .iat[] accessors instead\n",
      "/Library/Frameworks/Python.framework/Versions/3.7/lib/python3.7/site-packages/ipykernel_launcher.py:26: FutureWarning: set_value is deprecated and will be removed in a future release. Please use .at[] or .iat[] accessors instead\n",
      "/Library/Frameworks/Python.framework/Versions/3.7/lib/python3.7/site-packages/ipykernel_launcher.py:24: FutureWarning: set_value is deprecated and will be removed in a future release. Please use .at[] or .iat[] accessors instead\n"
     ]
    }
   ],
   "source": [
    "corona_stats_sorted_MS = corona_stats_sorted.loc[corona_stats_sorted['state'] == 'Mississippi']\n",
    "corona_stats_sorted_MS = corona_stats_sorted_MS.reset_index(drop=True)\n",
    "county_pop_MS = county_pop.loc[county_pop['State'] == 'Mississippi']\n",
    "county_pop_MS = county_pop_MS.sort_values(by=\"County\")\n",
    "county_pop_MS = county_pop_MS.reset_index(drop=True)\n",
    "previous = \"Adams\"\n",
    "i = 0\n",
    "for index, row in corona_stats_sorted_MS.iterrows():\n",
    "    if(row['county'] in county_pop_MS.County.values):\n",
    "        if row['county'] == previous:\n",
    "            corona_stats_sorted_MS.set_value(index, 'population', int(county_pop_MS.loc[i,:]['Pop'].replace(',','')))\n",
    "        else:\n",
    "            i+=1\n",
    "            while(county_pop_MS.loc[i,:]['County'] not in corona_stats_sorted_MS.county.values):\n",
    "                i+=1\n",
    "            previous = row['county']\n",
    "            corona_stats_sorted_MS.set_value(index, 'population', int(county_pop_MS.loc[i,:]['Pop'].replace(',','')))\n",
    "    else:\n",
    "         corona_stats_sorted_MO.set_value(index, 'population', 0)\n",
    "corona_stats_sorted_MS = corona_stats_sorted_MS[corona_stats_sorted_MS.population != 0.0].reset_index(drop=True)\n",
    "for index, row in corona_stats_sorted_MS.iterrows():\n",
    "    corona_stats_sorted_MS.set_value(index, 'ratio', row['cases'] / row['population'])\n",
    "    if(row['population'] >  50000):\n",
    "        corona_stats_sorted_MS.set_value(index, 'label', 'urban')\n",
    "    else:\n",
    "        corona_stats_sorted_MS.set_value(index, 'label', 'rural')\n",
    "corona_stats_recent_MS = corona_stats_sorted_MS[corona_stats_sorted_MS.date == \"2020-04-26\"].reset_index(drop=True)\n",
    "X_test = []\n",
    "y_test = []\n",
    "for index, row in corona_stats_recent_MS.iterrows():\n",
    "    temp = [row['ratio'], row['population']]\n",
    "    X_test.append(temp)\n",
    "    if row['label'] == 'rural':\n",
    "        y_test.append(0)\n",
    "    else:\n",
    "        y_test.append(1)"
   ]
  },
  {
   "cell_type": "code",
   "execution_count": 428,
   "metadata": {},
   "outputs": [
    {
     "name": "stdout",
     "output_type": "stream",
     "text": [
      "Average precision-recall score: 0.17\n",
      "Accuracy score: 0.17\n"
     ]
    }
   ],
   "source": [
    "from sklearn.neural_network import MLPClassifier\n",
    "from sklearn.metrics import average_precision_score\n",
    "from sklearn.metrics import accuracy_score\n",
    "mlp_clf = MLPClassifier(solver='lbfgs', alpha=1e-5, hidden_layer_sizes=(5, 2), random_state=1)\n",
    "mlp_clf.fit(X, y)\n",
    "y_score = mlp_clf.predict(X_test)\n",
    "average_precision = average_precision_score(y_test, y_score)\n",
    "print('Average precision-recall score: {0:0.2f}'.format(\n",
    "      average_precision))\n",
    "accuracy = accuracy_score(y_test, y_score)\n",
    "print('Accuracy score: {0:0.2f}'.format(\n",
    "      accuracy))"
   ]
  },
  {
   "cell_type": "code",
   "execution_count": 429,
   "metadata": {},
   "outputs": [
    {
     "name": "stdout",
     "output_type": "stream",
     "text": [
      "Average precision-recall score: 1.00\n",
      "Accuracy score: 1.00\n"
     ]
    }
   ],
   "source": [
    "from sklearn.naive_bayes import GaussianNB\n",
    "G_NB = GaussianNB()\n",
    "G_NB.fit(X, y)\n",
    "y_score = G_NB.predict(X_test)\n",
    "average_precision = average_precision_score(y_test, y_score)\n",
    "print('Average precision-recall score: {0:0.2f}'.format(\n",
    "      average_precision))\n",
    "accuracy = accuracy_score(y_test, y_score)\n",
    "print('Accuracy score: {0:0.2f}'.format(\n",
    "      accuracy))"
   ]
  },
  {
   "cell_type": "markdown",
   "metadata": {},
   "source": [
    "<h1> Infection Rate </h1>"
   ]
  },
  {
   "cell_type": "code",
   "execution_count": 430,
   "metadata": {},
   "outputs": [
    {
     "name": "stderr",
     "output_type": "stream",
     "text": [
      "/Library/Frameworks/Python.framework/Versions/3.7/lib/python3.7/site-packages/ipykernel_launcher.py:10: FutureWarning: set_value is deprecated and will be removed in a future release. Please use .at[] or .iat[] accessors instead\n",
      "  # Remove the CWD from sys.path while we load stuff.\n"
     ]
    }
   ],
   "source": [
    "corona_stats_sorted_MO = corona_stats_sorted_MO[corona_stats_sorted_MO.population != 0.0].reset_index(drop=True)\n",
    "previous = \"Adair\"\n",
    "count = 0\n",
    "for index, row in corona_stats_sorted_MO.iterrows():\n",
    "    if row['county'] != previous:\n",
    "        previous = row['county']\n",
    "        count = 1\n",
    "    else:\n",
    "        count += 1\n",
    "    corona_stats_sorted_MO.set_value(index, 'rate', row['cases'] / count)\n",
    "corona_stats_recent_MO = corona_stats_sorted_MO[corona_stats_sorted_MO.date == \"2020-04-26\"].reset_index(drop=True)\n",
    "X = []\n",
    "y = []\n",
    "for index, row in corona_stats_recent_MO.iterrows():\n",
    "    temp = [row['rate']]\n",
    "    X.append(temp)\n",
    "    if row['label'] == 'rural':\n",
    "        y.append(0)\n",
    "    else:\n",
    "        y.append(1)"
   ]
  },
  {
   "cell_type": "code",
   "execution_count": 431,
   "metadata": {},
   "outputs": [
    {
     "name": "stderr",
     "output_type": "stream",
     "text": [
      "/Library/Frameworks/Python.framework/Versions/3.7/lib/python3.7/site-packages/ipykernel_launcher.py:10: FutureWarning: set_value is deprecated and will be removed in a future release. Please use .at[] or .iat[] accessors instead\n",
      "  # Remove the CWD from sys.path while we load stuff.\n"
     ]
    }
   ],
   "source": [
    "corona_stats_sorted_MS = corona_stats_sorted_MS[corona_stats_sorted_MS.population != 0.0].reset_index(drop=True)\n",
    "previous = \"Adams\"\n",
    "count = 0\n",
    "for index, row in corona_stats_sorted_MS.iterrows():\n",
    "    if row['county'] != previous:\n",
    "        previous = row['county']\n",
    "        count = 1\n",
    "    else:\n",
    "        count += 1\n",
    "    corona_stats_sorted_MS.set_value(index, 'rate', row['cases'] / count)\n",
    "corona_stats_recent_MS = corona_stats_sorted_MS[corona_stats_sorted_MS.date == \"2020-04-26\"].reset_index(drop=True)\n",
    "X_test = []\n",
    "y_test = []\n",
    "for index, row in corona_stats_recent_MS.iterrows():\n",
    "    temp = [row['rate']]\n",
    "    X_test.append(temp)\n",
    "    if row['label'] == 'rural':\n",
    "        y_test.append(0)\n",
    "    else:\n",
    "        y_test.append(1)"
   ]
  },
  {
   "cell_type": "code",
   "execution_count": 434,
   "metadata": {},
   "outputs": [
    {
     "name": "stdout",
     "output_type": "stream",
     "text": [
      "Average precision-recall score: 0.44\n",
      "Accuracy score: 0.88\n",
      "[0 0 0 0 0 0 0 0 0 0 0 0 0 0 0 0 1 1 0 0 0 0 0 0 1 0 0 0 1 0 0 0 0 0 0 0 1\n",
      " 0 1 0 0 0 0 1 0 0 0 0 1 0 0 0 0 0 0 0 0 0 0 1 1 0 0 0 0 0 0 0 0 0 0 0 0 0\n",
      " 0 0 0 0 0 0 0]\n"
     ]
    }
   ],
   "source": [
    "mlp_clf = MLPClassifier(solver='lbfgs', alpha=1e-5, hidden_layer_sizes=(5, 2), random_state=1)\n",
    "mlp_clf.fit(X, y)\n",
    "y_score = mlp_clf.predict(X_test)\n",
    "average_precision = average_precision_score(y_test, y_score)\n",
    "print('Average precision-recall score: {0:0.2f}'.format(\n",
    "      average_precision))\n",
    "accuracy = accuracy_score(y_test, y_score)\n",
    "print('Accuracy score: {0:0.2f}'.format(\n",
    "      accuracy))"
   ]
  },
  {
   "cell_type": "code",
   "execution_count": 435,
   "metadata": {},
   "outputs": [
    {
     "name": "stdout",
     "output_type": "stream",
     "text": [
      "Average precision-recall score: 0.45\n",
      "Accuracy score: 0.85\n"
     ]
    }
   ],
   "source": [
    "from sklearn.naive_bayes import GaussianNB\n",
    "G_NB = GaussianNB()\n",
    "G_NB.fit(X, y)\n",
    "y_score = G_NB.predict(X_test)\n",
    "average_precision = average_precision_score(y_test, y_score)\n",
    "print('Average precision-recall score: {0:0.2f}'.format(\n",
    "      average_precision))\n",
    "accuracy = accuracy_score(y_test, y_score)\n",
    "print('Accuracy score: {0:0.2f}'.format(\n",
    "      accuracy))"
   ]
  },
  {
   "cell_type": "code",
   "execution_count": null,
   "metadata": {},
   "outputs": [],
   "source": []
  }
 ],
 "metadata": {
  "kernelspec": {
   "display_name": "Python 3",
   "language": "python",
   "name": "python3"
  },
  "language_info": {
   "codemirror_mode": {
    "name": "ipython",
    "version": 3
   },
   "file_extension": ".py",
   "mimetype": "text/x-python",
   "name": "python",
   "nbconvert_exporter": "python",
   "pygments_lexer": "ipython3",
   "version": "3.7.0"
  }
 },
 "nbformat": 4,
 "nbformat_minor": 2
}
